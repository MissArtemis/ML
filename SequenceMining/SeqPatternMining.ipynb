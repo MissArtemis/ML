{
 "cells": [
  {
   "cell_type": "code",
   "execution_count": 258,
   "metadata": {
    "collapsed": true
   },
   "outputs": [],
   "source": [
    "import copy\n",
    "import itertools\n",
    "from collections import defaultdict\n",
    "from operator import itemgetter"
   ]
  },
  {
   "cell_type": "code",
   "execution_count": 259,
   "outputs": [],
   "source": [
    "#DataSet Format\n",
    "#An event is a list of String\n",
    "#A sequence is a list of events\n",
    "#A dataset is a list of sequences\n",
    "#Thus, a dataset is a list of lists of lists of strings\n",
    "\n",
    "dataset = [\n",
    "    [[\"a\"],[\"a\",\"b\",\"c\"],[\"a\",\"c\"],[\"c\"]],\n",
    "    [[\"a\"],[\"c\"],[\"a\",\"c\"]],\n",
    "    [[\"a\",\"b\"],[\"d\"],[\"c\"],[\"b\"],[\"c\"]],\n",
    "    [[\"a\"],[\"c\"],[\"b\"],[\"c\"]]\n",
    "]\n"
   ],
   "metadata": {
    "collapsed": false,
    "pycharm": {
     "name": "#%%\n"
    }
   }
  },
  {
   "cell_type": "code",
   "execution_count": 260,
   "outputs": [],
   "source": [
    "#Foundations Functions\n",
    "\n",
    "#1.This fun is a recursive method that checks if subsequence is a subSequence\n",
    "#of mainSequence\n",
    "\n",
    "def isSubsequence(mainSequence:list,subSequence:list,pos=0):\n",
    "    subSequence_copy = copy.deepcopy(subSequence)\n",
    "    if(subSequence_copy==[]):\n",
    "        return True\n",
    "    element = set(subSequence_copy.pop(0))\n",
    "    for i in range(pos,len(mainSequence)):\n",
    "        if(set(mainSequence[i]).issuperset(element)):\n",
    "            return isSubsequence(mainSequence,subSequence_copy,i+1)\n",
    "    return False\n"
   ],
   "metadata": {
    "collapsed": false,
    "pycharm": {
     "name": "#%%\n"
    }
   }
  },
  {
   "cell_type": "code",
   "execution_count": 261,
   "outputs": [
    {
     "name": "stdout",
     "output_type": "stream",
     "text": [
      "True\n",
      "False\n"
     ]
    }
   ],
   "source": [
    "#Test Function isSubsequence\n",
    "\n",
    "testMainSeq = [[\"a\"],[\"b\",\"c\"],[\"d\"],[\"e\"],[\"a\",\"e\"]]\n",
    "print(isSubsequence(testMainSeq,[[\"a\"],[\"d\"],[\"e\"]]))\n",
    "print(isSubsequence(testMainSeq,[[\"d\"],[\"b\"]]))\n"
   ],
   "metadata": {
    "collapsed": false,
    "pycharm": {
     "name": "#%%\n"
    }
   }
  },
  {
   "cell_type": "code",
   "execution_count": 262,
   "outputs": [],
   "source": [
    "#2.This fun is to calculate the length of the seq\n",
    "def sequenceLength(sequence):\n",
    "    return sum(len(i) for i in sequence)\n"
   ],
   "metadata": {
    "collapsed": false,
    "pycharm": {
     "name": "#%%\n"
    }
   }
  },
  {
   "cell_type": "code",
   "execution_count": 263,
   "outputs": [
    {
     "name": "stdout",
     "output_type": "stream",
     "text": [
      "7\n"
     ]
    }
   ],
   "source": [
    "#Test Function sequenceLength\n",
    "print(sequenceLength([[\"a\",\"b\"],[\"c\"],[\"d\"],[\"e\",\"f\",\"g\"]]))\n",
    "\n"
   ],
   "metadata": {
    "collapsed": false,
    "pycharm": {
     "name": "#%%\n"
    }
   }
  },
  {
   "cell_type": "code",
   "execution_count": 264,
   "outputs": [],
   "source": [
    "#3.This fun is to calculate the support of a sequence is a dataset\n",
    "def countSupport(dataset,sequence):\n",
    "    return sum(1 for seq in dataset if isSubsequence(seq,sequence))\n",
    "\n"
   ],
   "metadata": {
    "collapsed": false,
    "pycharm": {
     "name": "#%%\n"
    }
   }
  },
  {
   "cell_type": "code",
   "execution_count": 265,
   "outputs": [
    {
     "name": "stdout",
     "output_type": "stream",
     "text": [
      "4\n"
     ]
    }
   ],
   "source": [
    "#Test Function countSupport\n",
    "print(countSupport(dataset=dataset,sequence=[[\"a\"]]))\n"
   ],
   "metadata": {
    "collapsed": false,
    "pycharm": {
     "name": "#%%\n"
    }
   }
  },
  {
   "cell_type": "code",
   "execution_count": 266,
   "outputs": [],
   "source": [
    "##############################################\n",
    "#Algorithm 1:AprioriAll based Pattern Mining #\n",
    "##############################################"
   ],
   "metadata": {
    "collapsed": false,
    "pycharm": {
     "name": "#%%\n"
    }
   }
  },
  {
   "cell_type": "code",
   "execution_count": 267,
   "outputs": [],
   "source": [
    "#1.From the core of Apriori mining, we need to get length k candidate from two\n",
    "# candidates of length k-1\n",
    "\n",
    "#Which kind of two k-1 length candidates can be merged into a k length candidate?\n",
    "\n",
    "#If two candidates look like:\n",
    "#cand1 = a(body)\n",
    "#cand2 = (body)b\n",
    "#Then these two candidates can be merged into a k+1 length candidate:\n",
    "#cand3 = a(body)b\n",
    "\n",
    "def generateCandidate(candidate1:list,candidate2:list):\n",
    "    cand1 = copy.deepcopy(candidate1)\n",
    "    cand2 = copy.deepcopy(candidate2)\n",
    "    #The principle is to judge the body part of two candidates is equal or not\n",
    "\n",
    "    #drop the head of candidate1\n",
    "    #When the first element of cand1 has only 1 item\n",
    "    if(len(cand1[0])==1):\n",
    "        cand1.pop(0)\n",
    "    else:\n",
    "    #When there are multi items in the first element of cand1\n",
    "        cand1[0] = cand1[0][1:]\n",
    "\n",
    "    #drop the tail of candidate2\n",
    "    #When the last element of cand2 has only 1 item\n",
    "    if(len(cand2[-1])==1):\n",
    "        cand2.pop(-1)\n",
    "    else:\n",
    "    #When there are multi items in the last element of cand2\n",
    "        cand2[-1] = cand2[-1][:-1]\n",
    "\n",
    "    #If the body part is not equal\n",
    "    if cand1 != cand2:\n",
    "        return []\n",
    "    else:\n",
    "        candidate3 = copy.deepcopy(candidate1)\n",
    "        if(len(candidate2[-1])==1):\n",
    "            candidate3.append(candidate2[-1])\n",
    "        else:\n",
    "            candidate3[-1].extend(candidate2[-1][-1])\n",
    "        return candidate3\n"
   ],
   "metadata": {
    "collapsed": false,
    "pycharm": {
     "name": "#%%\n"
    }
   }
  },
  {
   "cell_type": "code",
   "execution_count": 268,
   "outputs": [
    {
     "name": "stdout",
     "output_type": "stream",
     "text": [
      "[['a'], ['b', 'c'], ['d', 'e']]\n",
      "[['a'], ['b', 'c'], ['d'], ['e']]\n",
      "[]\n"
     ]
    }
   ],
   "source": [
    "#Test fun generateCandidate\n",
    "candA = [[\"a\"],[\"b\",\"c\"],[\"d\"]]\n",
    "candB = [[\"b\",\"c\"],[\"d\",\"e\"]]\n",
    "print(generateCandidate(candA,candB))\n",
    "\n",
    "candC = [[\"a\"],[\"b\",\"c\"],[\"d\"]]\n",
    "candD = [[\"b\",\"c\"],[\"d\"],[\"e\"]]\n",
    "print(generateCandidate(candC,candD))\n",
    "\n",
    "candE = [[\"a\"],[\"b\",\"c\"],[\"e\",\"f\"]]\n",
    "candF = [[\"a\"],[\"b\",\"c\"],[\"f\"]]\n",
    "print(generateCandidate(candE,candF))"
   ],
   "metadata": {
    "collapsed": false,
    "pycharm": {
     "name": "#%%\n"
    }
   }
  },
  {
   "cell_type": "code",
   "execution_count": 269,
   "outputs": [],
   "source": [
    "#2.The we need to decide how to get the k+1 length candidate set from k length\n",
    "#candidate set\n",
    "def getCandidatesSet(lastLevelCandidates:list):\n",
    "    k = sequenceLength(lastLevelCandidates[0])+1\n",
    "\n",
    "    #If it is from the begining, which means k = 1 and k + 1 = 2\n",
    "    if(k==2):\n",
    "        print(\"Start from begining\")\n",
    "        flattenCandidates = [item for list in lastLevelCandidates for sublist in list for item in sublist]\n",
    "        result = [[[a,b]] for a in flattenCandidates for b in flattenCandidates if b>a]\n",
    "        result.extend([[a],[b]] for a in flattenCandidates for b in flattenCandidates)\n",
    "        return result\n",
    "    else:\n",
    "        result = []\n",
    "        for i in range(0,len(lastLevelCandidates)):\n",
    "            for j in range(0,len(lastLevelCandidates)):\n",
    "                newCand = generateCandidate(lastLevelCandidates[i],lastLevelCandidates[j])\n",
    "                if(newCand!=[]):\n",
    "                    result.append(newCand)\n",
    "        result.sort()\n",
    "        return result\n",
    "\n",
    "\n"
   ],
   "metadata": {
    "collapsed": false,
    "pycharm": {
     "name": "#%%\n"
    }
   }
  },
  {
   "cell_type": "code",
   "execution_count": 270,
   "outputs": [
    {
     "name": "stdout",
     "output_type": "stream",
     "text": [
      "Start from begining\n",
      "[[['a', 'b']], [['a', 'c']], [['a', 'd']], [['b', 'c']], [['b', 'd']], [['c', 'd']], [['a'], ['a']], [['a'], ['b']], [['a'], ['c']], [['a'], ['d']], [['b'], ['a']], [['b'], ['b']], [['b'], ['c']], [['b'], ['d']], [['c'], ['a']], [['c'], ['b']], [['c'], ['c']], [['c'], ['d']], [['d'], ['a']], [['d'], ['b']], [['d'], ['c']], [['d'], ['d']]]\n",
      "[[['a'], ['a'], ['a']], [['a'], ['a'], ['b']], [['a'], ['a', 'b']], [['a'], ['b', 'c']], [['a', 'b', 'c']], [['b', 'c'], ['d']]]\n"
     ]
    }
   ],
   "source": [
    "#Test fun getCandidatesSet\n",
    "lastLevelCand1 = [\n",
    "    [['a']],\n",
    "    [['b']],\n",
    "    [['c']],\n",
    "    [['d']]\n",
    "]\n",
    "print(getCandidatesSet(lastLevelCand1))\n",
    "\n",
    "\n",
    "lastLevelCand2 = [\n",
    "    [['a','b']],\n",
    "    [['b','c']],\n",
    "    [['a'],['b']],\n",
    "    [['c'],['d']],\n",
    "    [['a'],['a']]\n",
    "]\n",
    "\n",
    "print(getCandidatesSet(lastLevelCand2))\n"
   ],
   "metadata": {
    "collapsed": false,
    "pycharm": {
     "name": "#%%\n"
    }
   }
  },
  {
   "cell_type": "code",
   "execution_count": null,
   "outputs": [],
   "source": [
    "#3.This func is the overall AprioriAll\n",
    "# import pandas as pd\n",
    "# import numpy as np\n",
    "# def AprioriAll(data,minSupport=0.5,maxLength=3):\n",
    "#     seq_rule = pd.DataFrame(columns=['sequence','sup'])\n",
    "# \n",
    "\n"
   ],
   "metadata": {
    "collapsed": false,
    "pycharm": {
     "name": "#%%\n"
    }
   }
  }
 ],
 "metadata": {
  "kernelspec": {
   "display_name": "Python 3",
   "language": "python",
   "name": "python3"
  },
  "language_info": {
   "codemirror_mode": {
    "name": "ipython",
    "version": 2
   },
   "file_extension": ".py",
   "mimetype": "text/x-python",
   "name": "python",
   "nbconvert_exporter": "python",
   "pygments_lexer": "ipython2",
   "version": "2.7.6"
  }
 },
 "nbformat": 4,
 "nbformat_minor": 0
}
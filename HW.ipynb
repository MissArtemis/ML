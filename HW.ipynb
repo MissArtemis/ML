{
 "cells": [
  {
   "cell_type": "code",
   "execution_count": 1,
   "metadata": {
    "collapsed": true
   },
   "outputs": [],
   "source": [
    "from pyspark.sql import SparkSession\n",
    "spark_test = SparkSession.builder.appName(\"HelloWorld\").getOrCreate()\n"
   ]
  }
 ],
 "metadata": {
  "kernelspec": {
   "name": "pycharm-5abf4711",
   "language": "python",
   "display_name": "PyCharm (ML-master)"
  },
  "language_info": {
   "codemirror_mode": {
    "name": "ipython",
    "version": 2
   },
   "file_extension": ".py",
   "mimetype": "text/x-python",
   "name": "python",
   "nbconvert_exporter": "python",
   "pygments_lexer": "ipython2",
   "version": "2.7.6"
  }
 },
 "nbformat": 4,
 "nbformat_minor": 0
}
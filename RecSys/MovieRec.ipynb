{
 "cells": [
  {
   "cell_type": "code",
   "execution_count": 1,
   "metadata": {
    "collapsed": true
   },
   "outputs": [],
   "source": [
    "# importing some libraries\n",
    "import numpy as np\n",
    "import pandas as pd\n",
    "import pyspark\n",
    "from pyspark.sql import SparkSession\n",
    "spark = SparkSession.builder.appName(\"MovieRec\").getOrCreate()\n",
    "sc = spark.sparkContext\n",
    "\n",
    "#Read in data\n",
    "ratings_rdd = sc.textFile('D:/pyproj/data/ml-1m/ratings.dat')\\\n",
    "            .map(lambda x: x.split(\"::\"))\n",
    "movies_rdd = sc.textFile('D:/pyproj/data/ml-1m/movies.dat').map(lambda x: x.split(\"::\"))\n",
    "users_rdd = sc.textFile('D:/pyproj/data/ml-1m/users.dat').map(lambda x:x.split(\"::\"))\n"
   ]
  },
  {
   "cell_type": "code",
   "execution_count": 3,
   "outputs": [
    {
     "name": "stdout",
     "output_type": "stream",
     "text": [
      "+------+-------+------+---------+\n",
      "|UserID|MovieID|Rating|Timestamp|\n",
      "+------+-------+------+---------+\n",
      "|     1|   1193|     5|978300760|\n",
      "|     1|    661|     3|978302109|\n",
      "|     1|    914|     3|978301968|\n",
      "|     1|   3408|     4|978300275|\n",
      "|     1|   2355|     5|978824291|\n",
      "|     1|   1197|     3|978302268|\n",
      "|     1|   1287|     5|978302039|\n",
      "|     1|   2804|     5|978300719|\n",
      "|     1|    594|     4|978302268|\n",
      "|     1|    919|     4|978301368|\n",
      "|     1|    595|     5|978824268|\n",
      "|     1|    938|     4|978301752|\n",
      "|     1|   2398|     4|978302281|\n",
      "|     1|   2918|     4|978302124|\n",
      "|     1|   1035|     5|978301753|\n",
      "|     1|   2791|     4|978302188|\n",
      "|     1|   2687|     3|978824268|\n",
      "|     1|   2018|     4|978301777|\n",
      "|     1|   3105|     5|978301713|\n",
      "|     1|   2797|     4|978302039|\n",
      "+------+-------+------+---------+\n",
      "only showing top 20 rows\n",
      "\n"
     ]
    }
   ],
   "source": [
    "# ratings_rdd.collect()\n",
    "# movies_rdd.collect()\n",
    "# users_rdd.collect()\n",
    "#Create DataFrames\n",
    "ratings_df = ratings_rdd.toDF([\"UserID\",\"MovieID\",\"Rating\",\"Timestamp\"])\n",
    "ratings_df.show()"
   ],
   "metadata": {
    "collapsed": false,
    "pycharm": {
     "name": "#%%\n"
    }
   }
  },
  {
   "cell_type": "code",
   "execution_count": 4,
   "outputs": [
    {
     "name": "stdout",
     "output_type": "stream",
     "text": [
      "+-------+--------------------+--------------------+\n",
      "|MovieID|               Title|              Genres|\n",
      "+-------+--------------------+--------------------+\n",
      "|      1|    Toy Story (1995)|Animation|Childre...|\n",
      "|      2|      Jumanji (1995)|Adventure|Childre...|\n",
      "|      3|Grumpier Old Men ...|      Comedy|Romance|\n",
      "|      4|Waiting to Exhale...|        Comedy|Drama|\n",
      "|      5|Father of the Bri...|              Comedy|\n",
      "|      6|         Heat (1995)|Action|Crime|Thri...|\n",
      "|      7|      Sabrina (1995)|      Comedy|Romance|\n",
      "|      8| Tom and Huck (1995)|Adventure|Children's|\n",
      "|      9| Sudden Death (1995)|              Action|\n",
      "|     10|    GoldenEye (1995)|Action|Adventure|...|\n",
      "|     11|American Presiden...|Comedy|Drama|Romance|\n",
      "|     12|Dracula: Dead and...|       Comedy|Horror|\n",
      "|     13|        Balto (1995)|Animation|Children's|\n",
      "|     14|        Nixon (1995)|               Drama|\n",
      "|     15|Cutthroat Island ...|Action|Adventure|...|\n",
      "|     16|       Casino (1995)|      Drama|Thriller|\n",
      "|     17|Sense and Sensibi...|       Drama|Romance|\n",
      "|     18|   Four Rooms (1995)|            Thriller|\n",
      "|     19|Ace Ventura: When...|              Comedy|\n",
      "|     20|  Money Train (1995)|              Action|\n",
      "+-------+--------------------+--------------------+\n",
      "only showing top 20 rows\n",
      "\n"
     ]
    }
   ],
   "source": [
    "movies_df = movies_rdd.toDF([\"MovieID\",\"Title\",\"Genres\"])\n",
    "movies_df.show()"
   ],
   "metadata": {
    "collapsed": false,
    "pycharm": {
     "name": "#%%\n"
    }
   }
  },
  {
   "cell_type": "code",
   "execution_count": 5,
   "outputs": [
    {
     "name": "stdout",
     "output_type": "stream",
     "text": [
      "+------+------+---+----------+--------+\n",
      "|UserID|Gender|Age|Occupation|Zip-code|\n",
      "+------+------+---+----------+--------+\n",
      "|     1|     F|  1|        10|   48067|\n",
      "|     2|     M| 56|        16|   70072|\n",
      "|     3|     M| 25|        15|   55117|\n",
      "|     4|     M| 45|         7|   02460|\n",
      "|     5|     M| 25|        20|   55455|\n",
      "|     6|     F| 50|         9|   55117|\n",
      "|     7|     M| 35|         1|   06810|\n",
      "|     8|     M| 25|        12|   11413|\n",
      "|     9|     M| 25|        17|   61614|\n",
      "|    10|     F| 35|         1|   95370|\n",
      "|    11|     F| 25|         1|   04093|\n",
      "|    12|     M| 25|        12|   32793|\n",
      "|    13|     M| 45|         1|   93304|\n",
      "|    14|     M| 35|         0|   60126|\n",
      "|    15|     M| 25|         7|   22903|\n",
      "|    16|     F| 35|         0|   20670|\n",
      "|    17|     M| 50|         1|   95350|\n",
      "|    18|     F| 18|         3|   95825|\n",
      "|    19|     M|  1|        10|   48073|\n",
      "|    20|     M| 25|        14|   55113|\n",
      "+------+------+---+----------+--------+\n",
      "only showing top 20 rows\n",
      "\n"
     ]
    }
   ],
   "source": [
    "users_df = users_rdd.toDF([\"UserID\",\"Gender\",\"Age\",\"Occupation\",\"Zip-code\"])\n",
    "users_df.show()\n",
    "\n"
   ],
   "metadata": {
    "collapsed": false,
    "pycharm": {
     "name": "#%%\n"
    }
   }
  },
  {
   "cell_type": "code",
   "execution_count": null,
   "outputs": [],
   "source": [
    "#################################################################################\n",
    "###Traditional Mechine Learning Method with ALS Recommendation System############\n",
    "#################################################################################\n"
   ],
   "metadata": {
    "collapsed": false,
    "pycharm": {
     "name": "#%%\n"
    }
   }
  },
  {
   "cell_type": "code",
   "execution_count": 6,
   "outputs": [
    {
     "name": "stdout",
     "output_type": "stream",
     "text": [
      "+------+--------------+------+\n",
      "|UserID|         Title|Rating|\n",
      "+------+--------------+------+\n",
      "|     2|Platoon (1986)|     2|\n",
      "|    19|Platoon (1986)|     3|\n",
      "|    23|Platoon (1986)|     3|\n",
      "|    24|Platoon (1986)|     4|\n",
      "|    26|Platoon (1986)|     3|\n",
      "|    33|Platoon (1986)|     3|\n",
      "|    36|Platoon (1986)|     5|\n",
      "|    48|Platoon (1986)|     3|\n",
      "|    53|Platoon (1986)|     5|\n",
      "|    57|Platoon (1986)|     4|\n",
      "|    58|Platoon (1986)|     5|\n",
      "|    62|Platoon (1986)|     5|\n",
      "|    65|Platoon (1986)|     4|\n",
      "|    66|Platoon (1986)|     4|\n",
      "|    88|Platoon (1986)|     3|\n",
      "|   107|Platoon (1986)|     4|\n",
      "|   116|Platoon (1986)|     5|\n",
      "|   117|Platoon (1986)|     3|\n",
      "|   118|Platoon (1986)|     3|\n",
      "|   123|Platoon (1986)|     4|\n",
      "+------+--------------+------+\n",
      "only showing top 20 rows\n",
      "\n"
     ]
    }
   ],
   "source": [
    "#Build DataFrame\n",
    "Rec1_df = movies_df.join(ratings_df,movies_df.MovieID == ratings_df.MovieID)\n",
    "#Rec1_df.show()\n",
    "from pyspark.sql.types import *\n",
    "Rec1_df = Rec1_df.select(\"UserID\",\"Title\",\"Rating\")\n",
    "Rec1_df = Rec1_df.withColumn(\"UserID\",Rec1_df[\"UserID\"].cast(IntegerType()))\n",
    "Rec1_df = Rec1_df.withColumn(\"Rating\",Rec1_df[\"Rating\"].cast(IntegerType()))\n",
    "Rec1_df.show()"
   ],
   "metadata": {
    "collapsed": false,
    "pycharm": {
     "name": "#%%\n"
    }
   }
  },
  {
   "cell_type": "code",
   "execution_count": 7,
   "outputs": [
    {
     "name": "stdout",
     "output_type": "stream",
     "text": [
      "(1000209, 3)\n",
      "root\n",
      " |-- UserID: integer (nullable = true)\n",
      " |-- Title: string (nullable = true)\n",
      " |-- Rating: integer (nullable = true)\n",
      "\n"
     ]
    }
   ],
   "source": [
    "from pyspark.sql.functions import *\n",
    "print((Rec1_df.count(),len(Rec1_df.columns)))\n",
    "Rec1_df.printSchema()\n"
   ],
   "metadata": {
    "collapsed": false,
    "pycharm": {
     "name": "#%%\n"
    }
   }
  },
  {
   "cell_type": "code",
   "execution_count": 9,
   "outputs": [
    {
     "name": "stdout",
     "output_type": "stream",
     "text": [
      "+------+-----+\n",
      "|UserID|count|\n",
      "+------+-----+\n",
      "|  4169| 2314|\n",
      "|  1680| 1850|\n",
      "|  4277| 1743|\n",
      "|  1941| 1595|\n",
      "|  1181| 1521|\n",
      "|   889| 1518|\n",
      "|  3618| 1344|\n",
      "|  2063| 1323|\n",
      "|  1150| 1302|\n",
      "|  1015| 1286|\n",
      "|  5795| 1277|\n",
      "|  4344| 1271|\n",
      "|  1980| 1260|\n",
      "|  2909| 1258|\n",
      "|  1449| 1243|\n",
      "|  4510| 1240|\n",
      "|   424| 1226|\n",
      "|  4227| 1222|\n",
      "|  5831| 1220|\n",
      "|  3841| 1216|\n",
      "+------+-----+\n",
      "only showing top 20 rows\n",
      "\n"
     ]
    }
   ],
   "source": [
    "#Check the num of rating of each user\n",
    "Rec1_df.groupBy(\"UserID\").count().orderBy('count',ascending= False).show()"
   ],
   "metadata": {
    "collapsed": false,
    "pycharm": {
     "name": "#%%\n"
    }
   }
  },
  {
   "cell_type": "code",
   "execution_count": 10,
   "outputs": [
    {
     "name": "stdout",
     "output_type": "stream",
     "text": [
      "+--------------------+-----+\n",
      "|               Title|count|\n",
      "+--------------------+-----+\n",
      "|American Beauty (...| 3428|\n",
      "|Star Wars: Episod...| 2991|\n",
      "|Star Wars: Episod...| 2990|\n",
      "|Star Wars: Episod...| 2883|\n",
      "|Jurassic Park (1993)| 2672|\n",
      "|Saving Private Ry...| 2653|\n",
      "|Terminator 2: Jud...| 2649|\n",
      "|  Matrix, The (1999)| 2590|\n",
      "|Back to the Futur...| 2583|\n",
      "|Silence of the La...| 2578|\n",
      "| Men in Black (1997)| 2538|\n",
      "|Raiders of the Lo...| 2514|\n",
      "|        Fargo (1996)| 2513|\n",
      "|Sixth Sense, The ...| 2459|\n",
      "|   Braveheart (1995)| 2443|\n",
      "|Shakespeare in Lo...| 2369|\n",
      "|Princess Bride, T...| 2318|\n",
      "|Schindler's List ...| 2304|\n",
      "|L.A. Confidential...| 2288|\n",
      "|Groundhog Day (1993)| 2278|\n",
      "+--------------------+-----+\n",
      "only showing top 20 rows\n",
      "\n"
     ]
    }
   ],
   "source": [
    "#Check the number of times movie been rated\n",
    "Rec1_df.groupBy(\"Title\").count().orderBy('count',ascending=False).show()"
   ],
   "metadata": {
    "collapsed": false,
    "pycharm": {
     "name": "#%%\n"
    }
   }
  },
  {
   "cell_type": "code",
   "execution_count": 11,
   "outputs": [
    {
     "name": "stdout",
     "output_type": "stream",
     "text": [
      "+------+--------------+------+-----------+\n",
      "|UserID|         Title|Rating|Title_index|\n",
      "+------+--------------+------+-----------+\n",
      "|     2|Platoon (1986)|     2|      145.0|\n",
      "|    19|Platoon (1986)|     3|      145.0|\n",
      "|    23|Platoon (1986)|     3|      145.0|\n",
      "|    24|Platoon (1986)|     4|      145.0|\n",
      "|    26|Platoon (1986)|     3|      145.0|\n",
      "|    33|Platoon (1986)|     3|      145.0|\n",
      "|    36|Platoon (1986)|     5|      145.0|\n",
      "|    48|Platoon (1986)|     3|      145.0|\n",
      "|    53|Platoon (1986)|     5|      145.0|\n",
      "|    57|Platoon (1986)|     4|      145.0|\n",
      "|    58|Platoon (1986)|     5|      145.0|\n",
      "|    62|Platoon (1986)|     5|      145.0|\n",
      "|    65|Platoon (1986)|     4|      145.0|\n",
      "|    66|Platoon (1986)|     4|      145.0|\n",
      "|    88|Platoon (1986)|     3|      145.0|\n",
      "|   107|Platoon (1986)|     4|      145.0|\n",
      "|   116|Platoon (1986)|     5|      145.0|\n",
      "|   117|Platoon (1986)|     3|      145.0|\n",
      "|   118|Platoon (1986)|     3|      145.0|\n",
      "|   123|Platoon (1986)|     4|      145.0|\n",
      "+------+--------------+------+-----------+\n",
      "only showing top 20 rows\n",
      "\n"
     ]
    }
   ],
   "source": [
    "#Data Processing\n",
    "#import String indexer to convert string value to numeric values\n",
    "from pyspark.ml.feature import StringIndexer,IndexToString\n",
    "stringIndexer = StringIndexer(inputCol=\"Title\",outputCol=\"Title_index\")\n",
    "model = stringIndexer.fit(Rec1_df)\n",
    "indexed = model.transform(Rec1_df)\n",
    "indexed.show()"
   ],
   "metadata": {
    "collapsed": false,
    "pycharm": {
     "name": "#%%\n"
    }
   }
  },
  {
   "cell_type": "code",
   "execution_count": 12,
   "outputs": [
    {
     "name": "stdout",
     "output_type": "stream",
     "text": [
      "train: 749657   test: 250552\n"
     ]
    }
   ],
   "source": [
    "#Split the data into train and test dataset\n",
    "train,test = indexed.randomSplit([0.75,0.25])\n",
    "print(\"train:\",train.count(),\" \",\"test:\",test.count())\n",
    "\n"
   ],
   "metadata": {
    "collapsed": false,
    "pycharm": {
     "name": "#%%\n"
    }
   }
  },
  {
   "cell_type": "code",
   "execution_count": 13,
   "outputs": [
    {
     "name": "stdout",
     "output_type": "stream",
     "text": [
      "root\n",
      " |-- UserID: integer (nullable = true)\n",
      " |-- Title: string (nullable = true)\n",
      " |-- Rating: integer (nullable = true)\n",
      " |-- Title_index: double (nullable = false)\n",
      " |-- prediction: float (nullable = false)\n",
      "\n"
     ]
    }
   ],
   "source": [
    "#ALS Recommender System\n",
    "from pyspark.ml.recommendation import ALS\n",
    "rec = ALS(maxIter=10,regParam=0.01,userCol=\"UserID\",itemCol=\"Title_index\",ratingCol=\"Rating\",nonnegative=True,coldStartStrategy=\"drop\")\n",
    "#Fit the model on train\n",
    "rec_model = rec.fit(train)\n",
    "#Making predictions on test set\n",
    "predicted_ratings = rec_model.transform(test)\n",
    "predicted_ratings.printSchema()"
   ],
   "metadata": {
    "collapsed": false,
    "pycharm": {
     "name": "#%%\n"
    }
   }
  },
  {
   "cell_type": "code",
   "execution_count": 14,
   "outputs": [
    {
     "name": "stdout",
     "output_type": "stream",
     "text": [
      "+------+--------------------+------+-----------+----------+\n",
      "|UserID|               Title|Rating|Title_index|prediction|\n",
      "+------+--------------------+------+-----------+----------+\n",
      "|  5345|Slums of Beverly ...|     5|     1160.0| 3.7778513|\n",
      "|  5749|  Killing Zoe (1994)|     1|     1545.0| 3.1019611|\n",
      "|  3598|Shaggy Dog, The (...|     1|     1659.0|  0.975405|\n",
      "|  1569|  Sling Blade (1996)|     4|      135.0|  4.793153|\n",
      "|   927|Big Lebowski, The...|     3|      167.0| 2.9251337|\n",
      "|  4543|     Grease 2 (1982)|     2|     1042.0| 1.5661153|\n",
      "|  6007|Blues Brothers, T...|     2|       98.0|  3.199599|\n",
      "|  3985|      Georgia (1995)|     2|     2576.0| 3.1793745|\n",
      "|  2156|Crocodile Dundee ...|     4|      772.0|  2.089546|\n",
      "|   698| Shining, The (1980)|     5|      171.0|  5.083621|\n",
      "|  2755|        Fargo (1996)|     5|       12.0| 2.7639518|\n",
      "|  3261|        Blade (1998)|     4|      306.0| 3.3229928|\n",
      "|  4064|My Life in Pink (...|     3|     1418.0| 3.6887548|\n",
      "|  5685|       Clerks (1994)|     4|       82.0|  3.969112|\n",
      "|  5738|Ghostbusters II (...|     3|      533.0| 2.5088038|\n",
      "|  1132|From Dusk Till Da...|     2|      246.0| 3.8133461|\n",
      "|  4055|Simple Plan, A (1...|     3|      356.0| 3.8966312|\n",
      "|  4104|   Fight Club (1999)|     5|       73.0| 3.8767076|\n",
      "|  5327|Little Mermaid, T...|     5|      192.0|  4.095687|\n",
      "|  4747|Higher Learning (...|     2|     1742.0| 3.5663366|\n",
      "+------+--------------------+------+-----------+----------+\n",
      "only showing top 20 rows\n",
      "\n"
     ]
    }
   ],
   "source": [
    "predicted_ratings.orderBy(rand()).show()\n",
    "\n"
   ],
   "metadata": {
    "collapsed": false,
    "pycharm": {
     "name": "#%%\n"
    }
   }
  },
  {
   "cell_type": "code",
   "execution_count": 15,
   "outputs": [
    {
     "name": "stdout",
     "output_type": "stream",
     "text": [
      "0.8836925253520499\n"
     ]
    }
   ],
   "source": [
    "#Measure RMSE\n",
    "from pyspark.ml.evaluation import RegressionEvaluator\n",
    "evaluator = RegressionEvaluator(metricName=\"rmse\",predictionCol='prediction',labelCol=\"Rating\")\n",
    "rmse = evaluator.evaluate(predicted_ratings)\n",
    "print(rmse)"
   ],
   "metadata": {
    "collapsed": false,
    "pycharm": {
     "name": "#%%\n"
    }
   }
  },
  {
   "cell_type": "code",
   "execution_count": null,
   "outputs": [],
   "source": [
    "#####################################################################\n",
    "################     New Method   ##############################\n",
    "#####################################################################\n"
   ],
   "metadata": {
    "collapsed": false,
    "pycharm": {
     "name": "#%%\n"
    }
   }
  },
  {
   "cell_type": "code",
   "execution_count": null,
   "outputs": [],
   "source": [
    "#Data Processing\n",
    "movies_df.show()\n",
    "movies_df_2 = movies_df.withColumn(\"Genres\",split(movies_df[\"Genres\"],\"\\|\"))\n",
    "movies_df_2.show()\n",
    "Rec2_df = movies_df_2.join(ratings_df,['MovieID']).join(users_df,['UserID'])"
   ],
   "metadata": {
    "collapsed": false,
    "pycharm": {
     "name": "#%%\n"
    }
   }
  },
  {
   "cell_type": "code",
   "execution_count": null,
   "outputs": [],
   "source": [
    "Rec2_df.show()\n",
    "# Rec_df = Rec2_df.drop(\"UserID\",\"MovieID\")\n",
    "# Rec_df.show()\n"
   ],
   "metadata": {
    "collapsed": false,
    "pycharm": {
     "name": "#%%\n"
    }
   }
  },
  {
   "cell_type": "code",
   "execution_count": null,
   "outputs": [],
   "source": [
    "#####################################################################\n",
    "#######################   Hang_Rec ##################################\n",
    "#####################################################################\n",
    "\n",
    "\n",
    "\n"
   ],
   "metadata": {
    "collapsed": false,
    "pycharm": {
     "name": "#%%\n"
    }
   }
  },
  {
   "cell_type": "code",
   "execution_count": null,
   "outputs": [],
   "source": [
    "value_set = Rec2_df.select(\"MovieID\").distinct().rdd.map(lambda r:r[0]).collect()\n",
    "ratings_data = Rec2_df.groupBy(\"UserID\").pivot(\"MovieID\",value_set).agg(max(\"Rating\")).fillna(0)\n",
    "ratings_data.show()"
   ],
   "metadata": {
    "collapsed": false,
    "pycharm": {
     "name": "#%%\n"
    }
   }
  },
  {
   "cell_type": "code",
   "execution_count": null,
   "outputs": [],
   "source": [
    "ratings_data1 = ratings_data.na.fill(0).orderBy(\"UserID\")\n",
    "ratings_data1.show()\n"
   ],
   "metadata": {
    "collapsed": false,
    "pycharm": {
     "name": "#%%\n"
    }
   }
  },
  {
   "cell_type": "code",
   "execution_count": null,
   "outputs": [],
   "source": [
    "\n"
   ],
   "metadata": {
    "collapsed": false,
    "pycharm": {
     "name": "#%%\n"
    }
   }
  }
 ],
 "metadata": {
  "kernelspec": {
   "name": "pycharm-5abf4711",
   "language": "python",
   "display_name": "PyCharm (ML-master)"
  },
  "language_info": {
   "codemirror_mode": {
    "name": "ipython",
    "version": 2
   },
   "file_extension": ".py",
   "mimetype": "text/x-python",
   "name": "python",
   "nbconvert_exporter": "python",
   "pygments_lexer": "ipython2",
   "version": "2.7.6"
  }
 },
 "nbformat": 4,
 "nbformat_minor": 0
}
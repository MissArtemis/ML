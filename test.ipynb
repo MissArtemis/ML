{
 "cells": [
  {
   "cell_type": "code",
   "execution_count": 21,
   "metadata": {
    "collapsed": true
   },
   "outputs": [
    {
     "name": "stdout",
     "output_type": "stream",
     "text": [
      "a\n",
      "b\n"
     ]
    }
   ],
   "source": [
    "ll = ['a','b']\n",
    "print(ll[0])\n",
    "print(ll[1])"
   ]
  },
  {
   "cell_type": "code",
   "execution_count": 22,
   "outputs": [
    {
     "name": "stdout",
     "output_type": "stream",
     "text": [
      "['United_States'] vs ['Europe']\n",
      "['United_States'] vs ['United_Kingdom']\n"
     ]
    }
   ],
   "source": [
    "ss = [(['United_States'], ['Europe']), (['United_States'], ['United_Kingdom'])]\n",
    "for s in ss:\n",
    "    print(s[0],\"vs\",s[1])"
   ],
   "metadata": {
    "collapsed": false,
    "pycharm": {
     "name": "#%%\n"
    }
   }
  },
  {
   "cell_type": "code",
   "execution_count": 23,
   "outputs": [],
   "source": [
    "def combo(list):\n",
    "    cob = []\n",
    "    for i in range(len(list)):\n",
    "        for j in range(len(list)):\n",
    "            cob.append([list[i],list[j]])\n",
    "    return cob"
   ],
   "metadata": {
    "collapsed": false,
    "pycharm": {
     "name": "#%%\n"
    }
   }
  },
  {
   "cell_type": "code",
   "execution_count": 24,
   "outputs": [
    {
     "name": "stdout",
     "output_type": "stream",
     "text": [
      "[[[['a', 'b'], ['c', 'd']], [['a', 'b'], ['c', 'd']]], [[['a', 'b'], ['c', 'd']], [['e'], ['f']]], [[['e'], ['f']], [['a', 'b'], ['c', 'd']]], [[['e'], ['f']], [['e'], ['f']]]]\n"
     ]
    }
   ],
   "source": [
    "ll = [[['a','b'],['c','d']],[['e'],['f']]]\n"
   ],
   "metadata": {
    "collapsed": false,
    "pycharm": {
     "name": "#%%\n"
    }
   }
  },
  {
   "cell_type": "code",
   "execution_count": 25,
   "outputs": [
    {
     "name": "stdout",
     "output_type": "stream",
     "text": [
      "{'v', 'b', 'a'}\n"
     ]
    }
   ],
   "source": [
    "aa = ['a','a','b','v']\n",
    "aa = set(aa)\n",
    "print(aa)\n"
   ],
   "metadata": {
    "collapsed": false,
    "pycharm": {
     "name": "#%%\n"
    }
   }
  },
  {
   "cell_type": "code",
   "execution_count": 26,
   "outputs": [
    {
     "name": "stdout",
     "output_type": "stream",
     "text": [
      "['v', 'b', 'a']\n"
     ]
    }
   ],
   "source": [
    "aa = list(aa)\n",
    "print(aa)\n"
   ],
   "metadata": {
    "collapsed": false,
    "pycharm": {
     "name": "#%%\n"
    }
   }
  },
  {
   "cell_type": "code",
   "execution_count": 28,
   "outputs": [
    {
     "name": "stdout",
     "output_type": "stream",
     "text": [
      "[['a', 'b'], ['c', 'd']]\n",
      "[['e'], ['f']]\n"
     ]
    }
   ],
   "source": [
    "ll = [['a'],['b'],['c']]\n"
   ],
   "metadata": {
    "collapsed": false,
    "pycharm": {
     "name": "#%%\n"
    }
   }
  }
 ],
 "metadata": {
  "kernelspec": {
   "name": "python3",
   "language": "python",
   "display_name": "Python 3"
  },
  "language_info": {
   "codemirror_mode": {
    "name": "ipython",
    "version": 2
   },
   "file_extension": ".py",
   "mimetype": "text/x-python",
   "name": "python",
   "nbconvert_exporter": "python",
   "pygments_lexer": "ipython2",
   "version": "2.7.6"
  }
 },
 "nbformat": 4,
 "nbformat_minor": 0
}